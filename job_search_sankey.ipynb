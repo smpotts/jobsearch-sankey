{
 "cells": [
  {
   "cell_type": "markdown",
   "id": "1840ab10-a1c2-4ea1-a7f4-1a182cf6672e",
   "metadata": {},
   "source": [
    "# Job Search Sankey Diagrams\n",
    "## Background & Purpose\n",
    "\n",
    "In October 2024, I began applying to jobs intensely after learning about an impending layoff. Like many job seekers, I found myself sending out dozens of applications, often with little visibility into how far I was getting in the process. By early 2025, I had resumed applying again with a renewed focus and a more structured approach to tracking progress.\n",
    "\n",
    "To bring clarity to this overwhelming experience, I began logging each application I submitted, along with the specific stages it went through — from initial submission to final outcome. I wanted to know:\n",
    "- How many applications progressed beyond the first step?\n",
    "- At what stage were most rejections happening?\n",
    "- How many companies made it to final interviews or offers?\n",
    "\n",
    "This notebook uses Sankey diagrams to visualize the flow of applications across various stages in the interview process. Each node represents a distinct stage (e.g., \"Applied\", \"HR Call\", \"Technical Interview\", \"Offer\"), and the links represent transitions between them. The thickness of each link corresponds to the number of applications that followed that particular path.\n",
    "\n",
    "By visualizing this data:\n",
    "- I can see common patterns and dead ends.\n",
    "- I get insight into which stages were the most common points of rejection.\n",
    "- I gain a clear picture of where effort translated into progress — and where it didn’t.\n",
    "\n",
    "This project is both personal and analytical: a way to make sense of a challenging time and derive insights that could help improve future job searches.\n",
    "\n"
   ]
  },
  {
   "cell_type": "markdown",
   "id": "2618961e-e9f6-4cf7-91d7-db71de6bf473",
   "metadata": {},
   "source": [
    "## Setup\n",
    "### Import packages"
   ]
  },
  {
   "cell_type": "code",
   "execution_count": 1,
   "id": "3ef86507-1a21-4dd6-83be-ea3b30da5155",
   "metadata": {},
   "outputs": [
    {
     "data": {
      "text/plain": [
       "True"
      ]
     },
     "execution_count": 1,
     "metadata": {},
     "output_type": "execute_result"
    }
   ],
   "source": [
    "import pandas as pd\n",
    "import plotly.graph_objects as go\n",
    "from dotenv import load_dotenv\n",
    "import os\n",
    "\n",
    "load_dotenv()"
   ]
  },
  {
   "cell_type": "markdown",
   "id": "4ea1e4b4",
   "metadata": {},
   "source": [
    "## Data Preparation\n",
    "### User inputs\n",
    "Reads in the user inputs from the `.env` file for the input file name, source column, target column, and visualization title."
   ]
  },
  {
   "cell_type": "code",
   "execution_count": 2,
   "id": "b757db70",
   "metadata": {},
   "outputs": [
    {
     "name": "stdout",
     "output_type": "stream",
     "text": [
      "Loaded config for: 2025-Sankey-Table.csv\n",
      "Loaded config for: Source\n",
      "Loaded config for: Target\n",
      "Loaded config for: Job Search Sankey Diagram 2025\n"
     ]
    }
   ],
   "source": [
    "# load in env vars\n",
    "input_file_name = os.getenv(\"INPUT_FILE\")\n",
    "source_column = os.getenv(\"SOURCE_COLUMN\")\n",
    "target_column = os.getenv(\"TARGET_COLUMN\")\n",
    "visualization_title = os.getenv(\"VIS_TITLE\")\n",
    "\n",
    "print(f\"Loaded config for: {input_file_name}\")\n",
    "print(f\"Loaded config for: {source_column}\")\n",
    "print(f\"Loaded config for: {target_column}\")\n",
    "print(f\"Loaded config for: {visualization_title}\")"
   ]
  },
  {
   "cell_type": "markdown",
   "id": "08e44928",
   "metadata": {},
   "source": [
    "### Load source data\n",
    "This step loads the data tracking my progress through each interview stage for the jobs I applied to, as well as those that recruiters reached out to me about."
   ]
  },
  {
   "cell_type": "code",
   "execution_count": 3,
   "id": "8a39b97f-afa9-415c-9a18-ca500af5bd7e",
   "metadata": {},
   "outputs": [
    {
     "data": {
      "text/html": [
       "<div>\n",
       "<style scoped>\n",
       "    .dataframe tbody tr th:only-of-type {\n",
       "        vertical-align: middle;\n",
       "    }\n",
       "\n",
       "    .dataframe tbody tr th {\n",
       "        vertical-align: top;\n",
       "    }\n",
       "\n",
       "    .dataframe thead th {\n",
       "        text-align: right;\n",
       "    }\n",
       "</style>\n",
       "<table border=\"1\" class=\"dataframe\">\n",
       "  <thead>\n",
       "    <tr style=\"text-align: right;\">\n",
       "      <th></th>\n",
       "      <th>Company</th>\n",
       "      <th>Source</th>\n",
       "      <th>Target</th>\n",
       "    </tr>\n",
       "  </thead>\n",
       "  <tbody>\n",
       "    <tr>\n",
       "      <th>0</th>\n",
       "      <td>Apptegy</td>\n",
       "      <td>Recruiter Inquiry</td>\n",
       "      <td>HR/ Hiring Manager Interview</td>\n",
       "    </tr>\n",
       "    <tr>\n",
       "      <th>1</th>\n",
       "      <td>Apptegy</td>\n",
       "      <td>HR/ Hiring Manager Interview</td>\n",
       "      <td>Technical Interview</td>\n",
       "    </tr>\n",
       "    <tr>\n",
       "      <th>2</th>\n",
       "      <td>Apptegy</td>\n",
       "      <td>Technical Interview</td>\n",
       "      <td>Panel Interview</td>\n",
       "    </tr>\n",
       "    <tr>\n",
       "      <th>3</th>\n",
       "      <td>Apptegy</td>\n",
       "      <td>Panel Interview</td>\n",
       "      <td>Offer</td>\n",
       "    </tr>\n",
       "    <tr>\n",
       "      <th>4</th>\n",
       "      <td>Apptegy</td>\n",
       "      <td>Offer</td>\n",
       "      <td>Accepted Offer</td>\n",
       "    </tr>\n",
       "  </tbody>\n",
       "</table>\n",
       "</div>"
      ],
      "text/plain": [
       "   Company                        Source                        Target\n",
       "0  Apptegy             Recruiter Inquiry  HR/ Hiring Manager Interview\n",
       "1  Apptegy  HR/ Hiring Manager Interview           Technical Interview\n",
       "2  Apptegy           Technical Interview               Panel Interview\n",
       "3  Apptegy               Panel Interview                         Offer\n",
       "4  Apptegy                         Offer                Accepted Offer"
      ]
     },
     "execution_count": 3,
     "metadata": {},
     "output_type": "execute_result"
    }
   ],
   "source": [
    "# load the CSV and preview \n",
    "df = pd.read_csv(f\"input_data/{input_file_name}\")\n",
    "df.head()"
   ]
  },
  {
   "cell_type": "markdown",
   "id": "3a1cfdf1-7880-4607-a864-6cc3843c6d80",
   "metadata": {},
   "source": [
    "### Groups the data by \"Source\" and \"Target\" columns"
   ]
  },
  {
   "cell_type": "code",
   "execution_count": 4,
   "id": "282f0d11-e04d-49af-a283-48b1e5648e9a",
   "metadata": {},
   "outputs": [
    {
     "data": {
      "text/html": [
       "<div>\n",
       "<style scoped>\n",
       "    .dataframe tbody tr th:only-of-type {\n",
       "        vertical-align: middle;\n",
       "    }\n",
       "\n",
       "    .dataframe tbody tr th {\n",
       "        vertical-align: top;\n",
       "    }\n",
       "\n",
       "    .dataframe thead th {\n",
       "        text-align: right;\n",
       "    }\n",
       "</style>\n",
       "<table border=\"1\" class=\"dataframe\">\n",
       "  <thead>\n",
       "    <tr style=\"text-align: right;\">\n",
       "      <th></th>\n",
       "      <th>Source</th>\n",
       "      <th>Target</th>\n",
       "      <th>Count</th>\n",
       "    </tr>\n",
       "  </thead>\n",
       "  <tbody>\n",
       "    <tr>\n",
       "      <th>0</th>\n",
       "      <td>Applied</td>\n",
       "      <td>Auto-Rejected</td>\n",
       "      <td>25</td>\n",
       "    </tr>\n",
       "    <tr>\n",
       "      <th>1</th>\n",
       "      <td>Applied</td>\n",
       "      <td>HR/ Hiring Manager Interview</td>\n",
       "      <td>3</td>\n",
       "    </tr>\n",
       "    <tr>\n",
       "      <th>2</th>\n",
       "      <td>Applied</td>\n",
       "      <td>No Response</td>\n",
       "      <td>28</td>\n",
       "    </tr>\n",
       "    <tr>\n",
       "      <th>3</th>\n",
       "      <td>HR/ Hiring Manager Interview</td>\n",
       "      <td>Rejected</td>\n",
       "      <td>3</td>\n",
       "    </tr>\n",
       "    <tr>\n",
       "      <th>4</th>\n",
       "      <td>HR/ Hiring Manager Interview</td>\n",
       "      <td>Technical Interview</td>\n",
       "      <td>4</td>\n",
       "    </tr>\n",
       "    <tr>\n",
       "      <th>5</th>\n",
       "      <td>HR/ Hiring Manager Interview</td>\n",
       "      <td>Withdrew</td>\n",
       "      <td>1</td>\n",
       "    </tr>\n",
       "    <tr>\n",
       "      <th>6</th>\n",
       "      <td>Hiring Manager Inquiry</td>\n",
       "      <td>HR/ Hiring Manager Interview</td>\n",
       "      <td>1</td>\n",
       "    </tr>\n",
       "    <tr>\n",
       "      <th>7</th>\n",
       "      <td>Offer</td>\n",
       "      <td>Accepted Offer</td>\n",
       "      <td>1</td>\n",
       "    </tr>\n",
       "    <tr>\n",
       "      <th>8</th>\n",
       "      <td>Offer</td>\n",
       "      <td>Declined Offer</td>\n",
       "      <td>1</td>\n",
       "    </tr>\n",
       "    <tr>\n",
       "      <th>9</th>\n",
       "      <td>Panel Interview</td>\n",
       "      <td>Offer</td>\n",
       "      <td>2</td>\n",
       "    </tr>\n",
       "    <tr>\n",
       "      <th>10</th>\n",
       "      <td>Panel Interview</td>\n",
       "      <td>Rejected</td>\n",
       "      <td>1</td>\n",
       "    </tr>\n",
       "    <tr>\n",
       "      <th>11</th>\n",
       "      <td>Panel Interview</td>\n",
       "      <td>Withdrew</td>\n",
       "      <td>1</td>\n",
       "    </tr>\n",
       "    <tr>\n",
       "      <th>12</th>\n",
       "      <td>Recruiter Inquiry</td>\n",
       "      <td>HR/ Hiring Manager Interview</td>\n",
       "      <td>4</td>\n",
       "    </tr>\n",
       "    <tr>\n",
       "      <th>13</th>\n",
       "      <td>Technical Interview</td>\n",
       "      <td>Panel Interview</td>\n",
       "      <td>4</td>\n",
       "    </tr>\n",
       "  </tbody>\n",
       "</table>\n",
       "</div>"
      ],
      "text/plain": [
       "                          Source                        Target  Count\n",
       "0                        Applied                 Auto-Rejected     25\n",
       "1                        Applied  HR/ Hiring Manager Interview      3\n",
       "2                        Applied                   No Response     28\n",
       "3   HR/ Hiring Manager Interview                      Rejected      3\n",
       "4   HR/ Hiring Manager Interview           Technical Interview      4\n",
       "5   HR/ Hiring Manager Interview                      Withdrew      1\n",
       "6         Hiring Manager Inquiry  HR/ Hiring Manager Interview      1\n",
       "7                          Offer                Accepted Offer      1\n",
       "8                          Offer                Declined Offer      1\n",
       "9                Panel Interview                         Offer      2\n",
       "10               Panel Interview                      Rejected      1\n",
       "11               Panel Interview                      Withdrew      1\n",
       "12             Recruiter Inquiry  HR/ Hiring Manager Interview      4\n",
       "13           Technical Interview               Panel Interview      4"
      ]
     },
     "execution_count": 4,
     "metadata": {},
     "output_type": "execute_result"
    }
   ],
   "source": [
    "# group by transition and count how many times it occurred across all companies\n",
    "flow_counts = df.groupby([source_column, target_column]).size().reset_index()\n",
    "flow_counts.rename(columns={0: \"Count\"}, inplace=True)\n",
    "flow_counts"
   ]
  },
  {
   "cell_type": "markdown",
   "id": "0fbcc9e9-b85f-4783-9a20-8d512e890799",
   "metadata": {},
   "source": [
    "### Extracts the unique labels"
   ]
  },
  {
   "cell_type": "code",
   "execution_count": 5,
   "id": "a003544d-09e4-4d52-ad33-e62dd7fe93f7",
   "metadata": {},
   "outputs": [
    {
     "data": {
      "text/plain": [
       "array(['Applied', 'Auto-Rejected', 'HR/ Hiring Manager Interview',\n",
       "       'No Response', 'Rejected', 'Technical Interview', 'Withdrew',\n",
       "       'Hiring Manager Inquiry', 'Offer', 'Accepted Offer',\n",
       "       'Declined Offer', 'Panel Interview', 'Recruiter Inquiry'],\n",
       "      dtype=object)"
      ]
     },
     "execution_count": 5,
     "metadata": {},
     "output_type": "execute_result"
    }
   ],
   "source": [
    "# gets unique stages as nodes\n",
    "\n",
    "# ravel() puts the 2D array into 1D\n",
    "# Output: array([[\"Panel Interview\", \"Offer\"],\n",
    "#                [\"Panel Interview\", \"Rejected\"],\n",
    "#                [\"Recruiter Inquiry\", \"Withdrew\"]])\n",
    "\n",
    "labels = pd.unique(flow_counts[[source_column, target_column]].values.ravel())\n",
    "labels"
   ]
  },
  {
   "cell_type": "markdown",
   "id": "cd07d657-761d-4dcc-8920-21f6f0c74069",
   "metadata": {},
   "source": [
    "### Mapping Labels to Indices\n",
    "- gives each label a unique index\n",
    "- creates a `dict` where each label maps to a unique index\n",
    "- maps the \"Source\" and \"Target\" stages to their respective indices using the `label_to_index` dictionary"
   ]
  },
  {
   "cell_type": "code",
   "execution_count": 6,
   "id": "e560ba42-b5ad-4c93-85f9-37b447f82abd",
   "metadata": {},
   "outputs": [
    {
     "data": {
      "text/plain": [
       "{'Applied': 0,\n",
       " 'Auto-Rejected': 1,\n",
       " 'HR/ Hiring Manager Interview': 2,\n",
       " 'No Response': 3,\n",
       " 'Rejected': 4,\n",
       " 'Technical Interview': 5,\n",
       " 'Withdrew': 6,\n",
       " 'Hiring Manager Inquiry': 7,\n",
       " 'Offer': 8,\n",
       " 'Accepted Offer': 9,\n",
       " 'Declined Offer': 10,\n",
       " 'Panel Interview': 11,\n",
       " 'Recruiter Inquiry': 12}"
      ]
     },
     "execution_count": 6,
     "metadata": {},
     "output_type": "execute_result"
    }
   ],
   "source": [
    "# map each target state to an index\n",
    "label_to_index = {label: idx for idx, label in enumerate(labels)}\n",
    "label_to_index\n"
   ]
  },
  {
   "cell_type": "code",
   "execution_count": 7,
   "id": "08e3e716",
   "metadata": {},
   "outputs": [
    {
     "data": {
      "text/plain": [
       "0      0\n",
       "1      0\n",
       "2      0\n",
       "3      2\n",
       "4      2\n",
       "5      2\n",
       "6      7\n",
       "7      8\n",
       "8      8\n",
       "9     11\n",
       "10    11\n",
       "11    11\n",
       "12    12\n",
       "13     5\n",
       "Name: SourceID, dtype: int64"
      ]
     },
     "execution_count": 7,
     "metadata": {},
     "output_type": "execute_result"
    }
   ],
   "source": [
    "# maps the integer value from 'Source' to an index\n",
    "source_id_column = f\"{source_column}ID\"\n",
    "flow_counts[source_id_column] = flow_counts[source_column].map(label_to_index)\n",
    "flow_counts[source_id_column]"
   ]
  },
  {
   "cell_type": "code",
   "execution_count": 8,
   "id": "19840b13",
   "metadata": {},
   "outputs": [
    {
     "data": {
      "text/plain": [
       "0      1\n",
       "1      2\n",
       "2      3\n",
       "3      4\n",
       "4      5\n",
       "5      6\n",
       "6      2\n",
       "7      9\n",
       "8     10\n",
       "9      8\n",
       "10     4\n",
       "11     6\n",
       "12     2\n",
       "13    11\n",
       "Name: TargetID, dtype: int64"
      ]
     },
     "execution_count": 8,
     "metadata": {},
     "output_type": "execute_result"
    }
   ],
   "source": [
    "# maps the integer value from 'Target' to an index\n",
    "target_id_column = f\"{target_column}ID\"\n",
    "flow_counts[target_id_column] = flow_counts[target_column].map(label_to_index)\n",
    "flow_counts[target_id_column]"
   ]
  },
  {
   "cell_type": "markdown",
   "id": "1ba5e1f7-3dc9-4fad-b232-7be9851001df",
   "metadata": {},
   "source": [
    "### Define colors for the nodes"
   ]
  },
  {
   "cell_type": "code",
   "execution_count": 9,
   "id": "4ad6c4c7-17df-4734-851f-16b09ec5acf0",
   "metadata": {},
   "outputs": [],
   "source": [
    "# create a color map for the nodes\n",
    "# more colors can be added if there are more unqiue stages\n",
    "node_colors = ['lightblue', \n",
    "               'red', \n",
    "               'lightcoral', \n",
    "               'lightskyblue', \n",
    "               'lightpink', \n",
    "               'yellow', \n",
    "               'green', \n",
    "               'lightsteelblue', \n",
    "               'blue', \n",
    "               'purple', \n",
    "               'brown', \n",
    "               'orange', \n",
    "               'orchid', \n",
    "               'mediumseagreen'\n",
    "]"
   ]
  },
  {
   "cell_type": "markdown",
   "id": "9a411606-0c55-4a9a-bd72-0350f126e485",
   "metadata": {},
   "source": [
    "## Visualize the data\n",
    "### Build the Sankey diagram figure"
   ]
  },
  {
   "cell_type": "code",
   "execution_count": 10,
   "id": "67419b77-2e6c-4437-9675-b296d897d2b6",
   "metadata": {},
   "outputs": [],
   "source": [
    "# build Sankey diagram with colors\n",
    "fig = go.Figure(data=[go.Sankey(\n",
    "    node=dict(\n",
    "        pad=20,\n",
    "        thickness=20,\n",
    "        line=dict(color=\"black\", width=0.5),\n",
    "        label=labels,\n",
    "        color=node_colors  # this applies color to each node\n",
    "    ),\n",
    "    link=dict(\n",
    "        source=flow_counts[source_id_column],\n",
    "        target=flow_counts[target_id_column],\n",
    "        value=flow_counts[\"Count\"],\n",
    "    )\n",
    ")])"
   ]
  },
  {
   "cell_type": "markdown",
   "id": "7c31f419-4b6a-4359-849c-898495c9323b",
   "metadata": {},
   "source": [
    "### Show the figure"
   ]
  },
  {
   "cell_type": "code",
   "execution_count": 11,
   "id": "77138602-2a0f-4c9d-8cb8-f8431ab4ba6a",
   "metadata": {},
   "outputs": [
    {
     "data": {
      "application/vnd.plotly.v1+json": {
       "config": {
        "plotlyServerURL": "https://plot.ly"
       },
       "data": [
        {
         "link": {
          "source": {
           "bdata": "AAAAAgICBwgICwsLDAU=",
           "dtype": "i1"
          },
          "target": {
           "bdata": "AQIDBAUGAgkKCAQGAgs=",
           "dtype": "i1"
          },
          "value": {
           "bdata": "GQMcAwQBAQEBAgEBBAQ=",
           "dtype": "i1"
          }
         },
         "node": {
          "color": [
           "lightblue",
           "red",
           "lightcoral",
           "lightskyblue",
           "lightpink",
           "yellow",
           "green",
           "lightsteelblue",
           "blue",
           "purple",
           "brown",
           "orange",
           "orchid",
           "mediumseagreen"
          ],
          "label": [
           "Applied",
           "Auto-Rejected",
           "HR/ Hiring Manager Interview",
           "No Response",
           "Rejected",
           "Technical Interview",
           "Withdrew",
           "Hiring Manager Inquiry",
           "Offer",
           "Accepted Offer",
           "Declined Offer",
           "Panel Interview",
           "Recruiter Inquiry"
          ],
          "line": {
           "color": "black",
           "width": 0.5
          },
          "pad": 20,
          "thickness": 20
         },
         "type": "sankey"
        }
       ],
       "layout": {
        "autosize": true,
        "font": {
         "size": 12
        },
        "height": 800,
        "template": {
         "data": {
          "bar": [
           {
            "error_x": {
             "color": "#2a3f5f"
            },
            "error_y": {
             "color": "#2a3f5f"
            },
            "marker": {
             "line": {
              "color": "#E5ECF6",
              "width": 0.5
             },
             "pattern": {
              "fillmode": "overlay",
              "size": 10,
              "solidity": 0.2
             }
            },
            "type": "bar"
           }
          ],
          "barpolar": [
           {
            "marker": {
             "line": {
              "color": "#E5ECF6",
              "width": 0.5
             },
             "pattern": {
              "fillmode": "overlay",
              "size": 10,
              "solidity": 0.2
             }
            },
            "type": "barpolar"
           }
          ],
          "carpet": [
           {
            "aaxis": {
             "endlinecolor": "#2a3f5f",
             "gridcolor": "white",
             "linecolor": "white",
             "minorgridcolor": "white",
             "startlinecolor": "#2a3f5f"
            },
            "baxis": {
             "endlinecolor": "#2a3f5f",
             "gridcolor": "white",
             "linecolor": "white",
             "minorgridcolor": "white",
             "startlinecolor": "#2a3f5f"
            },
            "type": "carpet"
           }
          ],
          "choropleth": [
           {
            "colorbar": {
             "outlinewidth": 0,
             "ticks": ""
            },
            "type": "choropleth"
           }
          ],
          "contour": [
           {
            "colorbar": {
             "outlinewidth": 0,
             "ticks": ""
            },
            "colorscale": [
             [
              0,
              "#0d0887"
             ],
             [
              0.1111111111111111,
              "#46039f"
             ],
             [
              0.2222222222222222,
              "#7201a8"
             ],
             [
              0.3333333333333333,
              "#9c179e"
             ],
             [
              0.4444444444444444,
              "#bd3786"
             ],
             [
              0.5555555555555556,
              "#d8576b"
             ],
             [
              0.6666666666666666,
              "#ed7953"
             ],
             [
              0.7777777777777778,
              "#fb9f3a"
             ],
             [
              0.8888888888888888,
              "#fdca26"
             ],
             [
              1,
              "#f0f921"
             ]
            ],
            "type": "contour"
           }
          ],
          "contourcarpet": [
           {
            "colorbar": {
             "outlinewidth": 0,
             "ticks": ""
            },
            "type": "contourcarpet"
           }
          ],
          "heatmap": [
           {
            "colorbar": {
             "outlinewidth": 0,
             "ticks": ""
            },
            "colorscale": [
             [
              0,
              "#0d0887"
             ],
             [
              0.1111111111111111,
              "#46039f"
             ],
             [
              0.2222222222222222,
              "#7201a8"
             ],
             [
              0.3333333333333333,
              "#9c179e"
             ],
             [
              0.4444444444444444,
              "#bd3786"
             ],
             [
              0.5555555555555556,
              "#d8576b"
             ],
             [
              0.6666666666666666,
              "#ed7953"
             ],
             [
              0.7777777777777778,
              "#fb9f3a"
             ],
             [
              0.8888888888888888,
              "#fdca26"
             ],
             [
              1,
              "#f0f921"
             ]
            ],
            "type": "heatmap"
           }
          ],
          "histogram": [
           {
            "marker": {
             "pattern": {
              "fillmode": "overlay",
              "size": 10,
              "solidity": 0.2
             }
            },
            "type": "histogram"
           }
          ],
          "histogram2d": [
           {
            "colorbar": {
             "outlinewidth": 0,
             "ticks": ""
            },
            "colorscale": [
             [
              0,
              "#0d0887"
             ],
             [
              0.1111111111111111,
              "#46039f"
             ],
             [
              0.2222222222222222,
              "#7201a8"
             ],
             [
              0.3333333333333333,
              "#9c179e"
             ],
             [
              0.4444444444444444,
              "#bd3786"
             ],
             [
              0.5555555555555556,
              "#d8576b"
             ],
             [
              0.6666666666666666,
              "#ed7953"
             ],
             [
              0.7777777777777778,
              "#fb9f3a"
             ],
             [
              0.8888888888888888,
              "#fdca26"
             ],
             [
              1,
              "#f0f921"
             ]
            ],
            "type": "histogram2d"
           }
          ],
          "histogram2dcontour": [
           {
            "colorbar": {
             "outlinewidth": 0,
             "ticks": ""
            },
            "colorscale": [
             [
              0,
              "#0d0887"
             ],
             [
              0.1111111111111111,
              "#46039f"
             ],
             [
              0.2222222222222222,
              "#7201a8"
             ],
             [
              0.3333333333333333,
              "#9c179e"
             ],
             [
              0.4444444444444444,
              "#bd3786"
             ],
             [
              0.5555555555555556,
              "#d8576b"
             ],
             [
              0.6666666666666666,
              "#ed7953"
             ],
             [
              0.7777777777777778,
              "#fb9f3a"
             ],
             [
              0.8888888888888888,
              "#fdca26"
             ],
             [
              1,
              "#f0f921"
             ]
            ],
            "type": "histogram2dcontour"
           }
          ],
          "mesh3d": [
           {
            "colorbar": {
             "outlinewidth": 0,
             "ticks": ""
            },
            "type": "mesh3d"
           }
          ],
          "parcoords": [
           {
            "line": {
             "colorbar": {
              "outlinewidth": 0,
              "ticks": ""
             }
            },
            "type": "parcoords"
           }
          ],
          "pie": [
           {
            "automargin": true,
            "type": "pie"
           }
          ],
          "scatter": [
           {
            "fillpattern": {
             "fillmode": "overlay",
             "size": 10,
             "solidity": 0.2
            },
            "type": "scatter"
           }
          ],
          "scatter3d": [
           {
            "line": {
             "colorbar": {
              "outlinewidth": 0,
              "ticks": ""
             }
            },
            "marker": {
             "colorbar": {
              "outlinewidth": 0,
              "ticks": ""
             }
            },
            "type": "scatter3d"
           }
          ],
          "scattercarpet": [
           {
            "marker": {
             "colorbar": {
              "outlinewidth": 0,
              "ticks": ""
             }
            },
            "type": "scattercarpet"
           }
          ],
          "scattergeo": [
           {
            "marker": {
             "colorbar": {
              "outlinewidth": 0,
              "ticks": ""
             }
            },
            "type": "scattergeo"
           }
          ],
          "scattergl": [
           {
            "marker": {
             "colorbar": {
              "outlinewidth": 0,
              "ticks": ""
             }
            },
            "type": "scattergl"
           }
          ],
          "scattermap": [
           {
            "marker": {
             "colorbar": {
              "outlinewidth": 0,
              "ticks": ""
             }
            },
            "type": "scattermap"
           }
          ],
          "scattermapbox": [
           {
            "marker": {
             "colorbar": {
              "outlinewidth": 0,
              "ticks": ""
             }
            },
            "type": "scattermapbox"
           }
          ],
          "scatterpolar": [
           {
            "marker": {
             "colorbar": {
              "outlinewidth": 0,
              "ticks": ""
             }
            },
            "type": "scatterpolar"
           }
          ],
          "scatterpolargl": [
           {
            "marker": {
             "colorbar": {
              "outlinewidth": 0,
              "ticks": ""
             }
            },
            "type": "scatterpolargl"
           }
          ],
          "scatterternary": [
           {
            "marker": {
             "colorbar": {
              "outlinewidth": 0,
              "ticks": ""
             }
            },
            "type": "scatterternary"
           }
          ],
          "surface": [
           {
            "colorbar": {
             "outlinewidth": 0,
             "ticks": ""
            },
            "colorscale": [
             [
              0,
              "#0d0887"
             ],
             [
              0.1111111111111111,
              "#46039f"
             ],
             [
              0.2222222222222222,
              "#7201a8"
             ],
             [
              0.3333333333333333,
              "#9c179e"
             ],
             [
              0.4444444444444444,
              "#bd3786"
             ],
             [
              0.5555555555555556,
              "#d8576b"
             ],
             [
              0.6666666666666666,
              "#ed7953"
             ],
             [
              0.7777777777777778,
              "#fb9f3a"
             ],
             [
              0.8888888888888888,
              "#fdca26"
             ],
             [
              1,
              "#f0f921"
             ]
            ],
            "type": "surface"
           }
          ],
          "table": [
           {
            "cells": {
             "fill": {
              "color": "#EBF0F8"
             },
             "line": {
              "color": "white"
             }
            },
            "header": {
             "fill": {
              "color": "#C8D4E3"
             },
             "line": {
              "color": "white"
             }
            },
            "type": "table"
           }
          ]
         },
         "layout": {
          "annotationdefaults": {
           "arrowcolor": "#2a3f5f",
           "arrowhead": 0,
           "arrowwidth": 1
          },
          "autotypenumbers": "strict",
          "coloraxis": {
           "colorbar": {
            "outlinewidth": 0,
            "ticks": ""
           }
          },
          "colorscale": {
           "diverging": [
            [
             0,
             "#8e0152"
            ],
            [
             0.1,
             "#c51b7d"
            ],
            [
             0.2,
             "#de77ae"
            ],
            [
             0.3,
             "#f1b6da"
            ],
            [
             0.4,
             "#fde0ef"
            ],
            [
             0.5,
             "#f7f7f7"
            ],
            [
             0.6,
             "#e6f5d0"
            ],
            [
             0.7,
             "#b8e186"
            ],
            [
             0.8,
             "#7fbc41"
            ],
            [
             0.9,
             "#4d9221"
            ],
            [
             1,
             "#276419"
            ]
           ],
           "sequential": [
            [
             0,
             "#0d0887"
            ],
            [
             0.1111111111111111,
             "#46039f"
            ],
            [
             0.2222222222222222,
             "#7201a8"
            ],
            [
             0.3333333333333333,
             "#9c179e"
            ],
            [
             0.4444444444444444,
             "#bd3786"
            ],
            [
             0.5555555555555556,
             "#d8576b"
            ],
            [
             0.6666666666666666,
             "#ed7953"
            ],
            [
             0.7777777777777778,
             "#fb9f3a"
            ],
            [
             0.8888888888888888,
             "#fdca26"
            ],
            [
             1,
             "#f0f921"
            ]
           ],
           "sequentialminus": [
            [
             0,
             "#0d0887"
            ],
            [
             0.1111111111111111,
             "#46039f"
            ],
            [
             0.2222222222222222,
             "#7201a8"
            ],
            [
             0.3333333333333333,
             "#9c179e"
            ],
            [
             0.4444444444444444,
             "#bd3786"
            ],
            [
             0.5555555555555556,
             "#d8576b"
            ],
            [
             0.6666666666666666,
             "#ed7953"
            ],
            [
             0.7777777777777778,
             "#fb9f3a"
            ],
            [
             0.8888888888888888,
             "#fdca26"
            ],
            [
             1,
             "#f0f921"
            ]
           ]
          },
          "colorway": [
           "#636efa",
           "#EF553B",
           "#00cc96",
           "#ab63fa",
           "#FFA15A",
           "#19d3f3",
           "#FF6692",
           "#B6E880",
           "#FF97FF",
           "#FECB52"
          ],
          "font": {
           "color": "#2a3f5f"
          },
          "geo": {
           "bgcolor": "white",
           "lakecolor": "white",
           "landcolor": "#E5ECF6",
           "showlakes": true,
           "showland": true,
           "subunitcolor": "white"
          },
          "hoverlabel": {
           "align": "left"
          },
          "hovermode": "closest",
          "mapbox": {
           "style": "light"
          },
          "paper_bgcolor": "white",
          "plot_bgcolor": "#E5ECF6",
          "polar": {
           "angularaxis": {
            "gridcolor": "white",
            "linecolor": "white",
            "ticks": ""
           },
           "bgcolor": "#E5ECF6",
           "radialaxis": {
            "gridcolor": "white",
            "linecolor": "white",
            "ticks": ""
           }
          },
          "scene": {
           "xaxis": {
            "backgroundcolor": "#E5ECF6",
            "gridcolor": "white",
            "gridwidth": 2,
            "linecolor": "white",
            "showbackground": true,
            "ticks": "",
            "zerolinecolor": "white"
           },
           "yaxis": {
            "backgroundcolor": "#E5ECF6",
            "gridcolor": "white",
            "gridwidth": 2,
            "linecolor": "white",
            "showbackground": true,
            "ticks": "",
            "zerolinecolor": "white"
           },
           "zaxis": {
            "backgroundcolor": "#E5ECF6",
            "gridcolor": "white",
            "gridwidth": 2,
            "linecolor": "white",
            "showbackground": true,
            "ticks": "",
            "zerolinecolor": "white"
           }
          },
          "shapedefaults": {
           "line": {
            "color": "#2a3f5f"
           }
          },
          "ternary": {
           "aaxis": {
            "gridcolor": "white",
            "linecolor": "white",
            "ticks": ""
           },
           "baxis": {
            "gridcolor": "white",
            "linecolor": "white",
            "ticks": ""
           },
           "bgcolor": "#E5ECF6",
           "caxis": {
            "gridcolor": "white",
            "linecolor": "white",
            "ticks": ""
           }
          },
          "title": {
           "x": 0.05
          },
          "xaxis": {
           "automargin": true,
           "gridcolor": "white",
           "linecolor": "white",
           "ticks": "",
           "title": {
            "standoff": 15
           },
           "zerolinecolor": "white",
           "zerolinewidth": 2
          },
          "yaxis": {
           "automargin": true,
           "gridcolor": "white",
           "linecolor": "white",
           "ticks": "",
           "title": {
            "standoff": 15
           },
           "zerolinecolor": "white",
           "zerolinewidth": 2
          }
         }
        },
        "title": {
         "text": "Job Search Sankey Diagram 2025"
        },
        "width": 1000
       }
      }
     },
     "metadata": {},
     "output_type": "display_data"
    }
   ],
   "source": [
    "# set the layout configurations\n",
    "fig.update_layout(\n",
    "    title_text=visualization_title,\n",
    "    font_size=12,\n",
    "    autosize=True,\n",
    "    width=1000,    # width of the graph (increase this to make it longer horizontally)\n",
    "    height=800     # height of the graph (increase this to make it longer vertically)\n",
    ")\n",
    "fig.show()\n",
    "\n",
    "# take the vis title and format it to use it for the output file name\n",
    "output_file = visualization_title.strip().lower().replace(\" \", \"_\")\n",
    "\n",
    "# save the figure to a file in the output_data directory\n",
    "fig.write_image(f\"output_data/{output_file}.png\", width=1000, height=800)"
   ]
  },
  {
   "cell_type": "markdown",
   "id": "d3f97c42",
   "metadata": {},
   "source": [
    "## Conclusion & Reflections\n",
    "\n",
    "This Sankey diagram provides a clear, visual overview of how job applications progress through different interview stages. By mapping transitions between stages such as “Applied,” “HR Interview,” and “Technical Interview,” users can better understand where applications tend to stall, advance, or succeed.\n",
    "\n",
    "Key takeaways from this analysis might include:\n",
    "- Identifying common drop-off points in the interview process.\n",
    "- Highlighting stages where most rejections occur.\n",
    "- Recognizing which types of roles or companies tend to move candidates further through the pipeline.\n",
    "\n",
    "Visualizing the job search in this way can help make sense of a complex and often stressful process, and may inform future application strategies or areas for preparation and focus."
   ]
  }
 ],
 "metadata": {
  "kernelspec": {
   "display_name": "venv",
   "language": "python",
   "name": "python3"
  },
  "language_info": {
   "codemirror_mode": {
    "name": "ipython",
    "version": 3
   },
   "file_extension": ".py",
   "mimetype": "text/x-python",
   "name": "python",
   "nbconvert_exporter": "python",
   "pygments_lexer": "ipython3",
   "version": "3.13.2"
  }
 },
 "nbformat": 4,
 "nbformat_minor": 5
}
